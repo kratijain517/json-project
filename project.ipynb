{
 "cells": [
  {
   "cell_type": "markdown",
   "source": [
    "## Local file Operation"
   ],
   "metadata": {}
  },
  {
   "cell_type": "code",
   "execution_count": 35,
   "source": [
    "import json\n",
    "inventory = \"\"\n",
    "\n",
    "def getRecords():\n",
    "  with open(\"Inventory.json\") as f:\n",
    "    js = f.read()\n",
    "    global inventory\n",
    "    inventory = json.loads(js)\n",
    "\n",
    "def updateRecords():\n",
    "  with open(\"Inventory.json\", \"w\") as f:\n",
    "    js = json.dumps(inventory)\n",
    "    f.write(js)\n",
    "\n",
    "getRecords()"
   ],
   "outputs": [],
   "metadata": {}
  },
  {
   "cell_type": "markdown",
   "source": [
    "## Buy function for buy operation"
   ],
   "metadata": {}
  },
  {
   "cell_type": "code",
   "execution_count": 36,
   "source": [
    "\n",
    "def sell(id, quant):\n",
    "  item = inventory[id]\n",
    "  if(item['quantity'] == 0):\n",
    "    print(\"Sorry, we don't have this item now\")\n",
    "  elif(item['quantity']<quant):\n",
    "    print(\"Sorry, we have only ${} product\".format(item['quantity']))\n",
    "  else:\n",
    "    item['quantity'] = item['quantity']-quant\n",
    "    print(\"Product id: \" + id)\n",
    "    print(\"Name: \" + item['name'])\n",
    "    print(\"Brand: \" + item['brand'])\n",
    "    print(\"Expiry: \" + item['expiry'])\n",
    "    print(\"Price: \" + str(item['price']))\n",
    "    print(\"Quantity: \" + str(quant))\n",
    "    print(\"Bill: \" + str(item['price']*quant))\n",
    "    updateRecords()"
   ],
   "outputs": [],
   "metadata": {}
  },
  {
   "cell_type": "code",
   "execution_count": 39,
   "source": [
    "def addToInventory():\n",
    "  id = int(list(inventory.keys())[-1]) +1\n",
    "  name = input(\"Name: \")\n",
    "  brand = input(\"Brand: \" )\n",
    "  expiry = input(\"Expiry: \")\n",
    "  price = input(\"Price: \")\n",
    "  quantity = input(\"Quantity: \")\n",
    "  addInventoryDict = {'name':name, 'brand':brand, 'expiry':expiry,'price':price, 'quantity':quantity}\n",
    "  inventory[id] = addInventoryDict\n",
    "  updateRecords()\n",
    "\n",
    "  "
   ],
   "outputs": [],
   "metadata": {}
  },
  {
   "cell_type": "code",
   "execution_count": 40,
   "source": [
    "addToInventory()"
   ],
   "outputs": [],
   "metadata": {}
  }
 ],
 "metadata": {
  "orig_nbformat": 4,
  "language_info": {
   "name": "python",
   "version": "3.8.3",
   "mimetype": "text/x-python",
   "codemirror_mode": {
    "name": "ipython",
    "version": 3
   },
   "pygments_lexer": "ipython3",
   "nbconvert_exporter": "python",
   "file_extension": ".py"
  },
  "kernelspec": {
   "name": "python3",
   "display_name": "Python 3.8.3 64-bit ('base': conda)"
  },
  "interpreter": {
   "hash": "b3ba2566441a7c06988d0923437866b63cedc61552a5af99d1f4fb67d367b25f"
  }
 },
 "nbformat": 4,
 "nbformat_minor": 2
}